{
 "cells": [
  {
   "cell_type": "markdown",
   "id": "c7459b8a-0478-4e81-a460-f2f97cc69a88",
   "metadata": {},
   "source": [
    "# SQLITE test\n",
    "\n",
    "With this notebook, we set up a multi-thread data transfer to obtain several years of climate data from the NOAA GCHD repository. A sqlite database is set up to track the progress of data transfers and record success or failure. \n",
    "\n",
    "Once you were successful, you need to manually delete the database file downloads.db to execute again.\n",
    "\n",
    "Hints for debugging:\n",
    "1. to avoid unnecessary network traffic, set the debug=True option in manage_download.\n",
    "2. Multithreading comes with the price that debugging is somewhat more complicated, because (without special configuration) any failure in execution will be silently ignored."
   ]
  },
  {
   "cell_type": "code",
   "execution_count": null,
   "id": "75d267d9-b332-4db0-85c6-7b547341ceb8",
   "metadata": {},
   "outputs": [],
   "source": [
    "import sqlite3\n",
    "import requests\n",
    "from concurrent.futures import ThreadPoolExecutor\n",
    "from functools import partial"
   ]
  },
  {
   "cell_type": "code",
   "execution_count": null,
   "id": "1904dd1f-8af8-4faa-a244-706276af59d2",
   "metadata": {},
   "outputs": [],
   "source": [
    "# user settings\n",
    "yearrange = [1960, 1990]"
   ]
  },
  {
   "cell_type": "code",
   "execution_count": null,
   "id": "eac0644d-f745-4445-8f7c-964787a50d40",
   "metadata": {},
   "outputs": [],
   "source": [
    "# setup database to keep track of downloads\n",
    "con = sqlite3.connect(\"downloads.db\")\n",
    "cur = con.cursor()\n",
    "cur.execute(\"CREATE TABLE IF NOT EXISTS downloads(year INTEGER PRIMARY KEY, status TEXT, tries INTEGER)\")\n",
    "for y in range(yearrange[0], yearrange[1]):\n",
    "    try:\n",
    "        cur.execute(f\"\"\"INSERT INTO downloads VALUES\n",
    "            ({y}, 'unknown', 0)\"\"\")\n",
    "    except:\n",
    "        cmd = f\"UPDATE downloads SET status='unknown' WHERE year={y}\"\n",
    "        cur.execute(cmd)\n",
    "    con.commit()\n",
    "        \n",
    "# check DB content\n",
    "res = cur.execute(\"SELECT * FROM downloads\")\n",
    "print(res.fetchall())\n",
    "\n",
    "# DB methods\n",
    "def get_status(year, cur=cur):\n",
    "    print(\"get_status\", cur)\n",
    "    res = cur.execute(f\"SELECT status FROM downloads WHERE year={year}\")\n",
    "    print(res)\n",
    "    status = res.fetchone()\n",
    "    return status[0]\n",
    "    \n",
    "def update_db(year, status, cur=cur):\n",
    "    cmd = f\"UPDATE downloads SET status='{status}' WHERE year={year}\"\n",
    "    print(cmd)\n",
    "    cur.execute(cmd)\n",
    "    con = cur.connection\n",
    "    con.commit()\n",
    "\n",
    "def increase_tries(year, cur=cur):\n",
    "    res = cur.execute(f\"SELECT tries FROM downloads WHERE year={year}\")\n",
    "    tries = res.fetchone()[0]\n",
    "    cmd = f\"UPDATE downloads SET tries={tries+1} WHERE year={year}\"\n",
    "    print(cmd)\n",
    "    cur.execute(cmd)\n",
    "    con = cur.connection\n",
    "    con.commit()\n",
    "    "
   ]
  },
  {
   "cell_type": "code",
   "execution_count": null,
   "id": "cb59ab14-f5f1-4b2f-af64-69b16b17b0cf",
   "metadata": {},
   "outputs": [],
   "source": [
    "# data download from NOAA\n",
    "def download(year):\n",
    "    url = f\"https://www.ncei.noaa.gov/pub/data/ghcn/daily/by_year/{year}.csv.gz\"\n",
    "    print(url)\n",
    "    response = requests.get(url)\n",
    "    if response.ok:\n",
    "        filename = url.rsplit('/', 1)[1]\n",
    "        print(f\"data downloaded. Will be saved as {filename}\")\n",
    "        with open(filename, \"wb\") as f:\n",
    "            f.write(response.content)\n",
    "        return 'done'\n",
    "    else:\n",
    "        print(f\"An error occured while trying to retrieve the data of year {year} from the internet.\")\n",
    "        return 'failed'\n",
    "\n",
    "\n",
    "def fake_download(year):\n",
    "    # for debugging. Don't actually load data, but simulate transfer failures occasionally.\n",
    "    url = f\"***https://www.ncei.noaa.gov/pub/data/ghcn/daily/by_year/{year}.csv.gz\"\n",
    "    print(url)\n",
    "    if (year % 5 == 0):\n",
    "        return \"failed\"\n",
    "    else:\n",
    "        return \"done\"\n",
    "\n",
    "def manage_download(year, dbname=\"downloads.db\"):\n",
    "    debug=False\n",
    "    # need to open a new connection each time to have this thread-safe\n",
    "    con = sqlite3.connect(dbname)\n",
    "    cur = con.cursor()\n",
    "    # check if year was already transferred\n",
    "    status = get_status(year, cur=cur)\n",
    "    print(f\"processing year {year}: status={status}\")\n",
    "    if status == 'done':\n",
    "        print(f\"Skipping year {year}, because it was already transferred.\")\n",
    "        return\n",
    "    update_db(year, \"in progress\", cur=cur)\n",
    "    increase_tries(year, cur=cur)\n",
    "    status = fake_download(year) if debug else download(year)\n",
    "    update_db(year, status, cur=cur)\n"
   ]
  },
  {
   "cell_type": "code",
   "execution_count": null,
   "id": "2fb0c8ea-bc36-40bb-83a0-3d7d61aa90f8",
   "metadata": {},
   "outputs": [],
   "source": [
    "# main loop\n",
    "with ThreadPoolExecutor(max_workers=4) as executor:\n",
    "    executor.map(manage_download, range(yearrange[0], yearrange[1]))"
   ]
  },
  {
   "cell_type": "code",
   "execution_count": null,
   "id": "6be28716-9318-4ff9-840f-b1a598cd0a7b",
   "metadata": {},
   "outputs": [],
   "source": [
    "# for testing: uncomment and execute if needed\n",
    "# manage_download(1966)"
   ]
  },
  {
   "cell_type": "code",
   "execution_count": null,
   "id": "05e04706-b892-4c20-992c-630ae5d25d60",
   "metadata": {},
   "outputs": [],
   "source": [
    "res = cur.execute(\"SELECT * FROM downloads\")\n",
    "for line in res.fetchall():\n",
    "    print(line)"
   ]
  },
  {
   "cell_type": "code",
   "execution_count": null,
   "id": "25101732-39ce-4247-a766-647ed7e80582",
   "metadata": {},
   "outputs": [],
   "source": [
    "# for testing: uncomment and execute if needed\n",
    "# get_status(1971, cur=cur)"
   ]
  },
  {
   "cell_type": "code",
   "execution_count": null,
   "id": "1dcf27c7-d996-4503-afe0-1b7fdb3ac201",
   "metadata": {},
   "outputs": [],
   "source": []
  }
 ],
 "metadata": {
  "kernelspec": {
   "display_name": "python-311-esdp",
   "language": "python",
   "name": "python-311-esdp"
  },
  "language_info": {
   "codemirror_mode": {
    "name": "ipython",
    "version": 3
   },
   "file_extension": ".py",
   "mimetype": "text/x-python",
   "name": "python",
   "nbconvert_exporter": "python",
   "pygments_lexer": "ipython3",
   "version": "3.11.9"
  }
 },
 "nbformat": 4,
 "nbformat_minor": 5
}
